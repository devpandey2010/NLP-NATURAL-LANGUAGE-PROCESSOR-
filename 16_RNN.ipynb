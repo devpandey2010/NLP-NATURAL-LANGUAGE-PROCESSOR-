{
  "nbformat": 4,
  "nbformat_minor": 0,
  "metadata": {
    "colab": {
      "provenance": [],
      "include_colab_link": true
    },
    "kernelspec": {
      "name": "python3",
      "display_name": "Python 3"
    },
    "language_info": {
      "name": "python"
    }
  },
  "cells": [
    {
      "cell_type": "markdown",
      "metadata": {
        "id": "view-in-github",
        "colab_type": "text"
      },
      "source": [
        "<a href=\"https://colab.research.google.com/github/devpandey2010/NLP-NATURAL-LANGUAGE-PROCESSOR-/blob/main/16_RNN.ipynb\" target=\"_parent\"><img src=\"https://colab.research.google.com/assets/colab-badge.svg\" alt=\"Open In Colab\"/></a>"
      ]
    },
    {
      "cell_type": "markdown",
      "source": [
        "## Full Code with Forward + BPTT"
      ],
      "metadata": {
        "id": "LtMiR9Cvp3Wd"
      }
    },
    {
      "cell_type": "code",
      "execution_count": null,
      "metadata": {
        "colab": {
          "base_uri": "https://localhost:8080/",
          "height": 522
        },
        "id": "OywpwNIspsDY",
        "outputId": "6f0b6220-2775-4f3e-e34c-f6d8fb59a58e"
      },
      "outputs": [
        {
          "output_type": "stream",
          "name": "stdout",
          "text": [
            "📉 Loss Before Update: 0.4297\n",
            "📉 Loss After  Update: 0.1972\n"
          ]
        },
        {
          "output_type": "display_data",
          "data": {
            "text/plain": [
              "<Figure size 640x480 with 1 Axes>"
            ],
            "image/png": "[encoded data removed]"
          },
          "metadata": {}
        }
      ],
      "source": [
        "import numpy as np\n",
        "import matplotlib.pyplot as plt\n",
        "\n",
        "# ---------- STEP 1: Input ----------\n",
        "word_vectors = {\n",
        "    \"I\": np.array([0.1, 0.2]),\n",
        "    \"love\": np.array([0.5, 0.1]),\n",
        "    \"NLP\": np.array([0.3, 0.7])\n",
        "}\n",
        "sentence = [\"I\", \"love\", \"NLP\"]\n",
        "true_label = np.array([0, 1])  # class 1 = positive\n",
        "\n",
        "# ---------- STEP 2: RNN Parameters ----------\n",
        "np.random.seed(42)\n",
        "W_xh = np.array([[0.1, 0.2],\n",
        "                 [0.3, 0.4]])\n",
        "W_hh = np.array([[0.5, -0.1],\n",
        "                 [0.2,  0.6]])\n",
        "W_hy = np.array([[ 1.0, -1.0],\n",
        "                 [-1.0,  1.0]])\n",
        "b_h = np.zeros(2)\n",
        "b_y = np.zeros(2)\n",
        "\n",
        "# ---------- STEP 3: Forward Pass ----------\n",
        "def softmax(x):\n",
        "    e_x = np.exp(x - np.max(x))\n",
        "    return e_x / e_x.sum()\n",
        "\n",
        "h_0 = np.zeros(2)\n",
        "h_list = [h_0]\n",
        "x_list = []\n",
        "\n",
        "# Forward through time\n",
        "for word in sentence:\n",
        "    x_t = word_vectors[word]\n",
        "    x_list.append(x_t)\n",
        "    h_prev = h_list[-1]\n",
        "    h_t = np.tanh(np.dot(W_xh, x_t) + np.dot(W_hh, h_prev) + b_h)\n",
        "    h_list.append(h_t)\n",
        "\n",
        "# Final prediction\n",
        "logits = np.dot(W_hy, h_list[-1]) + b_y\n",
        "y_pred = softmax(logits)\n",
        "initial_loss = -np.log(y_pred[np.argmax(true_label)])\n",
        "\n",
        "# ---------- STEP 4: Backpropagation Through Time ----------\n",
        "# Output layer gradient\n",
        "d_logits = y_pred - true_label\n",
        "\n",
        "# Gradients for output weights\n",
        "dW_hy = np.outer(d_logits, h_list[-1])\n",
        "db_y = d_logits.copy()\n",
        "dh_next = np.dot(W_hy.T, d_logits)\n",
        "\n",
        "# Initialize RNN gradients\n",
        "dW_xh = np.zeros_like(W_xh)\n",
        "dW_hh = np.zeros_like(W_hh)\n",
        "db_h = np.zeros_like(b_h)\n",
        "\n",
        "# BPTT through time\n",
        "for t in reversed(range(len(sentence))):\n",
        "    h_t = h_list[t+1]\n",
        "    h_prev = h_list[t]\n",
        "    x_t = x_list[t]\n",
        "\n",
        "    dz = (1 - h_t**2) * dh_next  # tanh' * dh\n",
        "    db_h += dz\n",
        "    dW_xh += np.outer(dz, x_t)\n",
        "    dW_hh += np.outer(dz, h_prev)\n",
        "\n",
        "    dh_next = np.dot(W_hh.T, dz)\n",
        "\n",
        "# ---------- STEP 5: Update Weights ----------\n",
        "learning_rate = 0.1\n",
        "W_xh -= learning_rate * dW_xh\n",
        "W_hh -= learning_rate * dW_hh\n",
        "W_hy -= learning_rate * dW_hy\n",
        "b_h  -= learning_rate * db_h\n",
        "b_y  -= learning_rate * db_y\n",
        "\n",
        "# ---------- STEP 6: Forward Again After Update ----------\n",
        "h_0 = np.zeros(2)\n",
        "h_list = [h_0]\n",
        "x_list = []\n",
        "\n",
        "for word in sentence:\n",
        "    x_t = word_vectors[word]\n",
        "    x_list.append(x_t)\n",
        "    h_prev = h_list[-1]\n",
        "    h_t = np.tanh(np.dot(W_xh, x_t) + np.dot(W_hh, h_prev) + b_h)\n",
        "    h_list.append(h_t)\n",
        "\n",
        "logits = np.dot(W_hy, h_list[-1]) + b_y\n",
        "y_pred = softmax(logits)\n",
        "updated_loss = -np.log(y_pred[np.argmax(true_label)])\n",
        "\n",
        "# ---------- STEP 7: Print Comparison ----------\n",
        "print(\"📉 Loss Before Update:\", round(initial_loss, 4))\n",
        "print(\"📉 Loss After  Update:\", round(updated_loss, 4))\n",
        "\n",
        "# ---------- STEP 8: Visualize Gradient Flow ----------\n",
        "gradients = {\n",
        "    \"dW_xh\": np.linalg.norm(dW_xh),\n",
        "    \"dW_hh\": np.linalg.norm(dW_hh),\n",
        "    \"dW_hy\": np.linalg.norm(dW_hy),\n",
        "    \"db_h\": np.linalg.norm(db_h),\n",
        "    \"db_y\": np.linalg.norm(db_y),\n",
        "}\n",
        "\n",
        "plt.bar(gradients.keys(), gradients.values(), color=\"skyblue\")\n",
        "plt.title(\"Gradient Magnitudes per Parameter\")\n",
        "plt.ylabel(\"L2 Norm\")\n",
        "plt.grid(True, linestyle=\"--\", alpha=0.5)\n",
        "plt.tight_layout()\n",
        "plt.show()"
      ]
    },
    {
      "cell_type": "markdown",
      "source": [
        "## Sentiment Analysis"
      ],
      "metadata": {
        "id": "190bq632rXbG"
      }
    },
    {
      "cell_type": "code",
      "source": [
        "sentences = ['i love it', 'i hate it', 'so good', 'very bad', 'awesome movie', 'worst ever']\n",
        "labels = [1, 0, 1, 0, 1, 0]"
      ],
      "metadata": {
        "id": "sTQmnJA8rCRr"
      },
      "execution_count": null,
      "outputs": []
    },
    {
      "cell_type": "code",
      "source": [
        "# 1. Tokenize text\n",
        "tokenizer = Tokenizer()\n",
        "tokenizer.fit_on_texts(sentences)\n",
        "X = tokenizer.texts_to_sequences(sentences)\n",
        "X = pad_sequences(X, padding='post')\n",
        "y = np.array(labels)\n",
        "vocab_size = len(tokenizer.word_index) + 1"
      ],
      "metadata": {
        "id": "ChvckcfLrb3L"
      },
      "execution_count": null,
      "outputs": []
    },
    {
      "cell_type": "code",
      "source": [
        "# 2. Build RNN model\n",
        "model = Sequential([\n",
        "    Embedding(input_dim=vocab_size, output_dim=8, input_length=X.shape[1]),\n",
        "    SimpleRNN(16),\n",
        "    Dense(1, activation='sigmoid')\n",
        "])\n"
      ],
      "metadata": {
        "id": "D6fprkskrdAf"
      },
      "execution_count": null,
      "outputs": []
    },
    {
      "cell_type": "code",
      "source": [
        "# 3. Compile and Train\n",
        "model.compile(loss='binary_crossentropy', optimizer='adam', metrics=['accuracy'])\n",
        "model.fit(X, y, epochs=50, verbose=0)"
      ],
      "metadata": {
        "colab": {
          "base_uri": "https://localhost:8080/"
        },
        "id": "vXXEUzf9reYh",
        "outputId": "9523d36e-0359-4317-d44e-5b95a76a975c"
      },
      "execution_count": null,
      "outputs": [
        {
          "output_type": "execute_result",
          "data": {
            "text/plain": [
              "<keras.src.callbacks.history.History at 0x7e2405425a50>"
            ]
          },
          "metadata": {},
          "execution_count": 31
        }
      ]
    },
    {
      "cell_type": "code",
      "source": [
        "# 4. Predict\n",
        "test_sent = ['really good']\n",
        "test_seq = tokenizer.texts_to_sequences(test_sent)\n",
        "test_seq = pad_sequences(test_seq, maxlen=X.shape[1], padding='post')\n",
        "print(\"Prediction (1=pos, 0=neg):\", model.predict(test_seq))"
      ],
      "metadata": {
        "colab": {
          "base_uri": "https://localhost:8080/"
        },
        "id": "jVzlN9jvrgVu",
        "outputId": "01d4bb24-65c3-42a8-d90c-9e580f013c25"
      },
      "execution_count": null,
      "outputs": [
        {
          "output_type": "stream",
          "name": "stdout",
          "text": [
            "\u001b[1m1/1\u001b[0m \u001b[32m━━━━━━━━━━━━━━━━━━━━\u001b[0m\u001b[37m\u001b[0m \u001b[1m0s\u001b[0m 257ms/step\n",
            "Prediction (1=pos, 0=neg): [[0.6426244]]\n"
          ]
        }
      ]
    },
    {
      "cell_type": "markdown",
      "source": [
        "## Machine Translation"
      ],
      "metadata": {
        "id": "Nq55dXWIrpEw"
      }
    },
    {
      "cell_type": "code",
      "source": [
        "import numpy as np\n",
        "import tensorflow as tf\n",
        "from tensorflow.keras.models import Sequential\n",
        "from tensorflow.keras.layers import Embedding, SimpleRNN, Dense\n",
        "from tensorflow.keras.preprocessing.text import Tokenizer\n",
        "from tensorflow.keras.preprocessing.sequence import pad_sequences\n",
        "\n",
        "# Step 1: Dummy parallel corpus\n",
        "eng_sentences = ['hi there', 'hello you', 'thanks much']\n",
        "fr_sentences  = ['salut toi', 'bonjour toi', 'merci beaucoup']\n",
        "\n",
        "# Step 2: Tokenize and pad inputs\n",
        "tok_en = Tokenizer()\n",
        "tok_en.fit_on_texts(eng_sentences)\n",
        "X = tok_en.texts_to_sequences(eng_sentences)\n",
        "X = pad_sequences(X, padding='post')\n",
        "vocab_en = len(tok_en.word_index) + 1\n",
        "timesteps = X.shape[1]\n",
        "\n",
        "tok_fr = Tokenizer()\n",
        "tok_fr.fit_on_texts(fr_sentences)\n",
        "y_seq = tok_fr.texts_to_sequences(fr_sentences)\n",
        "y_seq = pad_sequences(y_seq, padding='post')\n",
        "vocab_fr = len(tok_fr.word_index) + 1\n",
        "\n",
        "# Step 3: Convert y_seq to one-hot (shape: batch, timesteps, vocab_size)\n",
        "y = tf.keras.utils.to_categorical(y_seq, num_classes=vocab_fr)\n",
        "\n",
        "# Final shape checks\n",
        "print(\"X shape:\", X.shape)           # e.g., (3, 2)\n",
        "print(\"y_seq shape:\", y_seq.shape)   # (3, 2)\n",
        "print(\"y shape (one-hot):\", y.shape) # (3, 2, vocab_fr)"
      ],
      "metadata": {
        "colab": {
          "base_uri": "https://localhost:8080/"
        },
        "id": "ajaO4sCNrwQ6",
        "outputId": "71a9d5a5-fd44-4c96-ffda-095a9014348b"
      },
      "execution_count": null,
      "outputs": [
        {
          "output_type": "stream",
          "name": "stdout",
          "text": [
            "X shape: (3, 2)\n",
            "y_seq shape: (3, 2)\n",
            "y shape (one-hot): (3, 2, 6)\n"
          ]
        }
      ]
    },
    {
      "cell_type": "code",
      "source": [
        "model = Sequential([\n",
        "    Embedding(input_dim=vocab_en, output_dim=8, input_length=timesteps),\n",
        "    SimpleRNN(16, return_sequences=True),\n",
        "    Dense(vocab_fr, activation='softmax')\n",
        "])\n",
        "\n",
        "model.compile(optimizer='adam', loss='categorical_crossentropy', metrics=['accuracy'])\n",
        "model.fit(X, y, epochs=300, verbose=0)\n",
        "\n",
        "# Step 4: Translate test sentence\n",
        "test = ['hello you']\n",
        "test_seq = tok_en.texts_to_sequences(test)\n",
        "test_seq = pad_sequences(test_seq, maxlen=timesteps, padding='post')\n",
        "pred = model.predict(test_seq)\n",
        "\n",
        "# Step 5: Decode\n",
        "idx2word = {i: w for w, i in tok_fr.word_index.items()}\n",
        "translation = [idx2word.get(np.argmax(vec), '') for vec in pred[0]]\n",
        "print(\"Translation:\", ' '.join(translation))"
      ],
      "metadata": {
        "colab": {
          "base_uri": "https://localhost:8080/"
        },
        "id": "mWQFNsSqsckL",
        "outputId": "c3366fe9-15c0-41cc-eff5-03cb94dc2300"
      },
      "execution_count": null,
      "outputs": [
        {
          "output_type": "stream",
          "name": "stderr",
          "text": [
            "WARNING:tensorflow:5 out of the last 24 calls to <function TensorFlowTrainer.make_predict_function.<locals>.one_step_on_data_distributed at 0x7e23e6e9f920> triggered tf.function retracing. Tracing is expensive and the excessive number of tracings could be due to (1) creating @tf.function repeatedly in a loop, (2) passing tensors with different shapes, (3) passing Python objects instead of tensors. For (1), please define your @tf.function outside of the loop. For (2), @tf.function has reduce_retracing=True option that can avoid unnecessary retracing. For (3), please refer to https://www.tensorflow.org/guide/function#controlling_retracing and https://www.tensorflow.org/api_docs/python/tf/function for  more details.\n"
          ]
        },
        {
          "output_type": "stream",
          "name": "stdout",
          "text": [
            "\u001b[1m1/1\u001b[0m \u001b[32m━━━━━━━━━━━━━━━━━━━━\u001b[0m\u001b[37m\u001b[0m \u001b[1m0s\u001b[0m 167ms/step\n",
            "Translation: bonjour toi\n"
          ]
        }
      ]
    },
    {
      "cell_type": "code",
      "source": [],
      "metadata": {
        "id": "4gkf2ltTspdh"
      },
      "execution_count": null,
      "outputs": []
    }
  ]
}